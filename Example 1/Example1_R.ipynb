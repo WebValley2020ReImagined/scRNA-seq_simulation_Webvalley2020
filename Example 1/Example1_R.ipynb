{
 "cells": [
  {
   "cell_type": "code",
   "execution_count": 1,
   "metadata": {},
   "outputs": [],
   "source": [
    "#Load SPARSim \n",
    "library(SPARSim)"
   ]
  },
  {
   "cell_type": "markdown",
   "metadata": {},
   "source": [
    "## Create the simulation parameter"
   ]
  },
  {
   "cell_type": "code",
   "execution_count": 2,
   "metadata": {},
   "outputs": [],
   "source": [
    "# Simulate\n",
    "# - 1 condition\n",
    "# - 8 genes (skewed internal distribution)\n",
    "# - 300 cells\n",
    "# - equal library size\n",
    "\n",
    "# Number of genes\n",
    "N_gene <- 8 \n",
    "\n",
    "# Gene intensity\n",
    "gene_int <- c(  80,  30,   15,  10,  10,   5,   3,   0) \n",
    "# Gene variability\n",
    "gene_var <- c(0.05, 0.1,  0.1, 0.2, 0.5, 1.0, 5.0, 1.0) \n",
    "\n",
    "# Gene names\n",
    "gene_IDs <- c(\"Gene_1\", \"Gene_2\" ,\"Gene_3\", \"Gene_4\", \"Gene_5\", \"Gene_6\", \"Gene_7\", \"Gene_8\") \n",
    "\n",
    "# Number of cells to simulated\n",
    "N_cell <- 300 \n",
    "\n",
    "# 300 cells with a constant library size of 50 \n",
    "lib_size <- rep(50, times = N_cell)"
   ]
  },
  {
   "cell_type": "code",
   "execution_count": 3,
   "metadata": {},
   "outputs": [],
   "source": [
    "# create SPARSim simulation parameter\n",
    "cond_A_param <- SPARSim_create_simulation_parameter(\n",
    "                    intensity =  gene_int ,\n",
    "                    variability = gene_var,\n",
    "                    library_size = lib_size,\n",
    "                    feature_names = gene_IDs, \n",
    "                    sample_names = paste0(\"example_cell_\",c(1:N_cell)), \n",
    "                    condition_name = \"example\")"
   ]
  },
  {
   "cell_type": "markdown",
   "metadata": {},
   "source": [
    "## Check the simulation parameter"
   ]
  },
  {
   "cell_type": "code",
   "execution_count": 4,
   "metadata": {},
   "outputs": [
    {
     "data": {
      "text/html": [
       "'list'"
      ],
      "text/latex": [
       "'list'"
      ],
      "text/markdown": [
       "'list'"
      ],
      "text/plain": [
       "[1] \"list\""
      ]
     },
     "metadata": {},
     "output_type": "display_data"
    }
   ],
   "source": [
    "class(cond_A_param) # type"
   ]
  },
  {
   "cell_type": "code",
   "execution_count": 5,
   "metadata": {},
   "outputs": [
    {
     "data": {
      "text/html": [
       "<style>\n",
       ".list-inline {list-style: none; margin:0; padding: 0}\n",
       ".list-inline>li {display: inline-block}\n",
       ".list-inline>li:not(:last-child)::after {content: \"\\00b7\"; padding: 0 .5ex}\n",
       "</style>\n",
       "<ol class=list-inline><li>'intensity'</li><li>'variability'</li><li>'lib_size'</li><li>'name'</li></ol>\n"
      ],
      "text/latex": [
       "\\begin{enumerate*}\n",
       "\\item 'intensity'\n",
       "\\item 'variability'\n",
       "\\item 'lib\\_size'\n",
       "\\item 'name'\n",
       "\\end{enumerate*}\n"
      ],
      "text/markdown": [
       "1. 'intensity'\n",
       "2. 'variability'\n",
       "3. 'lib_size'\n",
       "4. 'name'\n",
       "\n",
       "\n"
      ],
      "text/plain": [
       "[1] \"intensity\"   \"variability\" \"lib_size\"    \"name\"       "
      ]
     },
     "metadata": {},
     "output_type": "display_data"
    }
   ],
   "source": [
    "names(cond_A_param) # elements"
   ]
  },
  {
   "cell_type": "code",
   "execution_count": 6,
   "metadata": {},
   "outputs": [
    {
     "data": {
      "text/html": [
       "<style>\n",
       ".dl-inline {width: auto; margin:0; padding: 0}\n",
       ".dl-inline>dt, .dl-inline>dd {float: none; width: auto; display: inline-block}\n",
       ".dl-inline>dt::after {content: \":\\0020\"; padding-right: .5ex}\n",
       ".dl-inline>dt:not(:first-of-type) {padding-left: .5ex}\n",
       "</style><dl class=dl-inline><dt>Gene_1</dt><dd>80</dd><dt>Gene_2</dt><dd>30</dd><dt>Gene_3</dt><dd>15</dd><dt>Gene_4</dt><dd>10</dd><dt>Gene_5</dt><dd>10</dd><dt>Gene_6</dt><dd>5</dd></dl>\n"
      ],
      "text/latex": [
       "\\begin{description*}\n",
       "\\item[Gene\\textbackslash{}\\_1] 80\n",
       "\\item[Gene\\textbackslash{}\\_2] 30\n",
       "\\item[Gene\\textbackslash{}\\_3] 15\n",
       "\\item[Gene\\textbackslash{}\\_4] 10\n",
       "\\item[Gene\\textbackslash{}\\_5] 10\n",
       "\\item[Gene\\textbackslash{}\\_6] 5\n",
       "\\end{description*}\n"
      ],
      "text/markdown": [
       "Gene_1\n",
       ":   80Gene_2\n",
       ":   30Gene_3\n",
       ":   15Gene_4\n",
       ":   10Gene_5\n",
       ":   10Gene_6\n",
       ":   5\n",
       "\n"
      ],
      "text/plain": [
       "Gene_1 Gene_2 Gene_3 Gene_4 Gene_5 Gene_6 \n",
       "    80     30     15     10     10      5 "
      ]
     },
     "metadata": {},
     "output_type": "display_data"
    }
   ],
   "source": [
    "head(cond_A_param$intensity)"
   ]
  },
  {
   "cell_type": "code",
   "execution_count": 7,
   "metadata": {},
   "outputs": [
    {
     "data": {
      "text/html": [
       "<style>\n",
       ".dl-inline {width: auto; margin:0; padding: 0}\n",
       ".dl-inline>dt, .dl-inline>dd {float: none; width: auto; display: inline-block}\n",
       ".dl-inline>dt::after {content: \":\\0020\"; padding-right: .5ex}\n",
       ".dl-inline>dt:not(:first-of-type) {padding-left: .5ex}\n",
       "</style><dl class=dl-inline><dt>Gene_1</dt><dd>0.05</dd><dt>Gene_2</dt><dd>0.1</dd><dt>Gene_3</dt><dd>0.1</dd><dt>Gene_4</dt><dd>0.2</dd><dt>Gene_5</dt><dd>0.5</dd><dt>Gene_6</dt><dd>1</dd></dl>\n"
      ],
      "text/latex": [
       "\\begin{description*}\n",
       "\\item[Gene\\textbackslash{}\\_1] 0.05\n",
       "\\item[Gene\\textbackslash{}\\_2] 0.1\n",
       "\\item[Gene\\textbackslash{}\\_3] 0.1\n",
       "\\item[Gene\\textbackslash{}\\_4] 0.2\n",
       "\\item[Gene\\textbackslash{}\\_5] 0.5\n",
       "\\item[Gene\\textbackslash{}\\_6] 1\n",
       "\\end{description*}\n"
      ],
      "text/markdown": [
       "Gene_1\n",
       ":   0.05Gene_2\n",
       ":   0.1Gene_3\n",
       ":   0.1Gene_4\n",
       ":   0.2Gene_5\n",
       ":   0.5Gene_6\n",
       ":   1\n",
       "\n"
      ],
      "text/plain": [
       "Gene_1 Gene_2 Gene_3 Gene_4 Gene_5 Gene_6 \n",
       "  0.05   0.10   0.10   0.20   0.50   1.00 "
      ]
     },
     "metadata": {},
     "output_type": "display_data"
    }
   ],
   "source": [
    "head(cond_A_param$variability)"
   ]
  },
  {
   "cell_type": "code",
   "execution_count": 8,
   "metadata": {},
   "outputs": [
    {
     "data": {
      "text/html": [
       "<style>\n",
       ".dl-inline {width: auto; margin:0; padding: 0}\n",
       ".dl-inline>dt, .dl-inline>dd {float: none; width: auto; display: inline-block}\n",
       ".dl-inline>dt::after {content: \":\\0020\"; padding-right: .5ex}\n",
       ".dl-inline>dt:not(:first-of-type) {padding-left: .5ex}\n",
       "</style><dl class=dl-inline><dt>example_cell_1</dt><dd>50</dd><dt>example_cell_2</dt><dd>50</dd><dt>example_cell_3</dt><dd>50</dd><dt>example_cell_4</dt><dd>50</dd><dt>example_cell_5</dt><dd>50</dd><dt>example_cell_6</dt><dd>50</dd></dl>\n"
      ],
      "text/latex": [
       "\\begin{description*}\n",
       "\\item[example\\textbackslash{}\\_cell\\textbackslash{}\\_1] 50\n",
       "\\item[example\\textbackslash{}\\_cell\\textbackslash{}\\_2] 50\n",
       "\\item[example\\textbackslash{}\\_cell\\textbackslash{}\\_3] 50\n",
       "\\item[example\\textbackslash{}\\_cell\\textbackslash{}\\_4] 50\n",
       "\\item[example\\textbackslash{}\\_cell\\textbackslash{}\\_5] 50\n",
       "\\item[example\\textbackslash{}\\_cell\\textbackslash{}\\_6] 50\n",
       "\\end{description*}\n"
      ],
      "text/markdown": [
       "example_cell_1\n",
       ":   50example_cell_2\n",
       ":   50example_cell_3\n",
       ":   50example_cell_4\n",
       ":   50example_cell_5\n",
       ":   50example_cell_6\n",
       ":   50\n",
       "\n"
      ],
      "text/plain": [
       "example_cell_1 example_cell_2 example_cell_3 example_cell_4 example_cell_5 \n",
       "            50             50             50             50             50 \n",
       "example_cell_6 \n",
       "            50 "
      ]
     },
     "metadata": {},
     "output_type": "display_data"
    }
   ],
   "source": [
    "head(cond_A_param$lib_size)"
   ]
  },
  {
   "cell_type": "code",
   "execution_count": 9,
   "metadata": {},
   "outputs": [
    {
     "data": {
      "text/html": [
       "'example'"
      ],
      "text/latex": [
       "'example'"
      ],
      "text/markdown": [
       "'example'"
      ],
      "text/plain": [
       "[1] \"example\""
      ]
     },
     "metadata": {},
     "output_type": "display_data"
    }
   ],
   "source": [
    "head(cond_A_param$name)"
   ]
  },
  {
   "cell_type": "markdown",
   "metadata": {},
   "source": [
    "## Simulate with SPARSim"
   ]
  },
  {
   "cell_type": "code",
   "execution_count": 18,
   "metadata": {},
   "outputs": [
    {
     "name": "stdout",
     "output_type": "stream",
     "text": [
      "Number of experimental conditions:  1 \n",
      "Number of genes:  8 \n",
      "Number of cells:  300 \n",
      "Setting gene expression intensity...  \n",
      "Setting gene expression variability ...  \n",
      "Simulating biological variability ...  \n",
      "Simulating technical variability ...  \n"
     ]
    }
   ],
   "source": [
    "SPARSim_sim_param <- list(cond_A_param)\n",
    "sim_result <- SPARSim_simulation(dataset_parameter = SPARSim_sim_param)"
   ]
  },
  {
   "cell_type": "markdown",
   "metadata": {},
   "source": [
    "## Check simulation results"
   ]
  },
  {
   "cell_type": "code",
   "execution_count": 19,
   "metadata": {},
   "outputs": [
    {
     "data": {
      "text/html": [
       "'list'"
      ],
      "text/latex": [
       "'list'"
      ],
      "text/markdown": [
       "'list'"
      ],
      "text/plain": [
       "[1] \"list\""
      ]
     },
     "metadata": {},
     "output_type": "display_data"
    }
   ],
   "source": [
    "class(sim_result)"
   ]
  },
  {
   "cell_type": "code",
   "execution_count": 20,
   "metadata": {},
   "outputs": [
    {
     "data": {
      "text/html": [
       "<style>\n",
       ".list-inline {list-style: none; margin:0; padding: 0}\n",
       ".list-inline>li {display: inline-block}\n",
       ".list-inline>li:not(:last-child)::after {content: \"\\00b7\"; padding: 0 .5ex}\n",
       "</style>\n",
       "<ol class=list-inline><li>'count_matrix'</li><li>'gene_matrix'</li><li>'abundance_matrix'</li><li>'variability_matrix'</li><li>'batch_factors_matrix'</li></ol>\n"
      ],
      "text/latex": [
       "\\begin{enumerate*}\n",
       "\\item 'count\\_matrix'\n",
       "\\item 'gene\\_matrix'\n",
       "\\item 'abundance\\_matrix'\n",
       "\\item 'variability\\_matrix'\n",
       "\\item 'batch\\_factors\\_matrix'\n",
       "\\end{enumerate*}\n"
      ],
      "text/markdown": [
       "1. 'count_matrix'\n",
       "2. 'gene_matrix'\n",
       "3. 'abundance_matrix'\n",
       "4. 'variability_matrix'\n",
       "5. 'batch_factors_matrix'\n",
       "\n",
       "\n"
      ],
      "text/plain": [
       "[1] \"count_matrix\"         \"gene_matrix\"          \"abundance_matrix\"    \n",
       "[4] \"variability_matrix\"   \"batch_factors_matrix\""
      ]
     },
     "metadata": {},
     "output_type": "display_data"
    }
   ],
   "source": [
    "names(sim_result)"
   ]
  },
  {
   "cell_type": "markdown",
   "metadata": {},
   "source": [
    "### Simulated gene expression level"
   ]
  },
  {
   "cell_type": "code",
   "execution_count": 21,
   "metadata": {},
   "outputs": [
    {
     "data": {
      "text/html": [
       "<style>\n",
       ".list-inline {list-style: none; margin:0; padding: 0}\n",
       ".list-inline>li {display: inline-block}\n",
       ".list-inline>li:not(:last-child)::after {content: \"\\00b7\"; padding: 0 .5ex}\n",
       "</style>\n",
       "<ol class=list-inline><li>8</li><li>300</li></ol>\n"
      ],
      "text/latex": [
       "\\begin{enumerate*}\n",
       "\\item 8\n",
       "\\item 300\n",
       "\\end{enumerate*}\n"
      ],
      "text/markdown": [
       "1. 8\n",
       "2. 300\n",
       "\n",
       "\n"
      ],
      "text/plain": [
       "[1]   8 300"
      ]
     },
     "metadata": {},
     "output_type": "display_data"
    }
   ],
   "source": [
    "# Simulated gene expression level\n",
    "gene_expr <- sim_result$gene_matrix\n",
    "\n",
    "# check dimensions\n",
    "dim(gene_expr)"
   ]
  },
  {
   "cell_type": "code",
   "execution_count": 22,
   "metadata": {},
   "outputs": [
    {
     "data": {
      "text/html": [
       "<table class=\"dataframe\">\n",
       "<caption>A matrix: 8 × 300 of type dbl</caption>\n",
       "<thead>\n",
       "\t<tr><th></th><th scope=col>example_cell_1</th><th scope=col>example_cell_2</th><th scope=col>example_cell_3</th><th scope=col>example_cell_4</th><th scope=col>example_cell_5</th><th scope=col>example_cell_6</th><th scope=col>example_cell_7</th><th scope=col>example_cell_8</th><th scope=col>example_cell_9</th><th scope=col>example_cell_10</th><th scope=col>⋯</th><th scope=col>example_cell_291</th><th scope=col>example_cell_292</th><th scope=col>example_cell_293</th><th scope=col>example_cell_294</th><th scope=col>example_cell_295</th><th scope=col>example_cell_296</th><th scope=col>example_cell_297</th><th scope=col>example_cell_298</th><th scope=col>example_cell_299</th><th scope=col>example_cell_300</th></tr>\n",
       "</thead>\n",
       "<tbody>\n",
       "\t<tr><th scope=row>Gene_1</th><td>95</td><td>102</td><td>109</td><td>54</td><td>83</td><td>79</td><td>74</td><td>110</td><td>79</td><td>69</td><td>⋯</td><td>66</td><td>99</td><td>107</td><td>92</td><td>71</td><td>63</td><td>81</td><td>89</td><td>94</td><td>69</td></tr>\n",
       "\t<tr><th scope=row>Gene_2</th><td>13</td><td> 39</td><td> 42</td><td>39</td><td>21</td><td>30</td><td>39</td><td> 38</td><td>45</td><td>53</td><td>⋯</td><td>19</td><td>44</td><td> 21</td><td>36</td><td>22</td><td>23</td><td>20</td><td>39</td><td>38</td><td>35</td></tr>\n",
       "\t<tr><th scope=row>Gene_3</th><td>12</td><td>  7</td><td> 17</td><td>12</td><td>15</td><td>14</td><td>18</td><td> 27</td><td>22</td><td> 8</td><td>⋯</td><td> 9</td><td> 9</td><td> 17</td><td>17</td><td>15</td><td>20</td><td>11</td><td> 9</td><td>19</td><td> 6</td></tr>\n",
       "\t<tr><th scope=row>Gene_4</th><td> 7</td><td>  5</td><td> 17</td><td> 9</td><td> 6</td><td>15</td><td> 8</td><td>  6</td><td>10</td><td>10</td><td>⋯</td><td> 3</td><td> 9</td><td> 14</td><td>13</td><td>16</td><td>13</td><td>14</td><td>17</td><td>20</td><td>13</td></tr>\n",
       "\t<tr><th scope=row>Gene_5</th><td> 8</td><td> 10</td><td>  6</td><td> 8</td><td> 5</td><td> 4</td><td>14</td><td>  7</td><td> 9</td><td> 4</td><td>⋯</td><td>19</td><td>24</td><td> 29</td><td> 9</td><td> 4</td><td> 1</td><td>36</td><td>10</td><td> 5</td><td>15</td></tr>\n",
       "\t<tr><th scope=row>Gene_6</th><td> 0</td><td>  2</td><td>  2</td><td> 0</td><td> 1</td><td>27</td><td> 0</td><td>  1</td><td> 5</td><td> 1</td><td>⋯</td><td> 2</td><td> 9</td><td>  4</td><td> 2</td><td> 9</td><td>15</td><td> 4</td><td> 8</td><td> 2</td><td> 3</td></tr>\n",
       "\t<tr><th scope=row>Gene_7</th><td> 2</td><td>  2</td><td>  8</td><td> 0</td><td> 9</td><td> 2</td><td> 6</td><td>  7</td><td>16</td><td> 1</td><td>⋯</td><td> 1</td><td> 0</td><td>  0</td><td> 0</td><td> 0</td><td> 0</td><td> 0</td><td> 1</td><td> 5</td><td> 8</td></tr>\n",
       "\t<tr><th scope=row>Gene_8</th><td> 0</td><td>  0</td><td>  0</td><td> 0</td><td> 0</td><td> 0</td><td> 0</td><td>  0</td><td> 0</td><td> 0</td><td>⋯</td><td> 0</td><td> 0</td><td>  0</td><td> 0</td><td> 0</td><td> 0</td><td> 0</td><td> 0</td><td> 0</td><td> 0</td></tr>\n",
       "</tbody>\n",
       "</table>\n"
      ],
      "text/latex": [
       "A matrix: 8 × 300 of type dbl\n",
       "\\begin{tabular}{r|lllllllllllllllllllll}\n",
       "  & example\\_cell\\_1 & example\\_cell\\_2 & example\\_cell\\_3 & example\\_cell\\_4 & example\\_cell\\_5 & example\\_cell\\_6 & example\\_cell\\_7 & example\\_cell\\_8 & example\\_cell\\_9 & example\\_cell\\_10 & ⋯ & example\\_cell\\_291 & example\\_cell\\_292 & example\\_cell\\_293 & example\\_cell\\_294 & example\\_cell\\_295 & example\\_cell\\_296 & example\\_cell\\_297 & example\\_cell\\_298 & example\\_cell\\_299 & example\\_cell\\_300\\\\\n",
       "\\hline\n",
       "\tGene\\_1 & 95 & 102 & 109 & 54 & 83 & 79 & 74 & 110 & 79 & 69 & ⋯ & 66 & 99 & 107 & 92 & 71 & 63 & 81 & 89 & 94 & 69\\\\\n",
       "\tGene\\_2 & 13 &  39 &  42 & 39 & 21 & 30 & 39 &  38 & 45 & 53 & ⋯ & 19 & 44 &  21 & 36 & 22 & 23 & 20 & 39 & 38 & 35\\\\\n",
       "\tGene\\_3 & 12 &   7 &  17 & 12 & 15 & 14 & 18 &  27 & 22 &  8 & ⋯ &  9 &  9 &  17 & 17 & 15 & 20 & 11 &  9 & 19 &  6\\\\\n",
       "\tGene\\_4 &  7 &   5 &  17 &  9 &  6 & 15 &  8 &   6 & 10 & 10 & ⋯ &  3 &  9 &  14 & 13 & 16 & 13 & 14 & 17 & 20 & 13\\\\\n",
       "\tGene\\_5 &  8 &  10 &   6 &  8 &  5 &  4 & 14 &   7 &  9 &  4 & ⋯ & 19 & 24 &  29 &  9 &  4 &  1 & 36 & 10 &  5 & 15\\\\\n",
       "\tGene\\_6 &  0 &   2 &   2 &  0 &  1 & 27 &  0 &   1 &  5 &  1 & ⋯ &  2 &  9 &   4 &  2 &  9 & 15 &  4 &  8 &  2 &  3\\\\\n",
       "\tGene\\_7 &  2 &   2 &   8 &  0 &  9 &  2 &  6 &   7 & 16 &  1 & ⋯ &  1 &  0 &   0 &  0 &  0 &  0 &  0 &  1 &  5 &  8\\\\\n",
       "\tGene\\_8 &  0 &   0 &   0 &  0 &  0 &  0 &  0 &   0 &  0 &  0 & ⋯ &  0 &  0 &   0 &  0 &  0 &  0 &  0 &  0 &  0 &  0\\\\\n",
       "\\end{tabular}\n"
      ],
      "text/markdown": [
       "\n",
       "A matrix: 8 × 300 of type dbl\n",
       "\n",
       "| <!--/--> | example_cell_1 | example_cell_2 | example_cell_3 | example_cell_4 | example_cell_5 | example_cell_6 | example_cell_7 | example_cell_8 | example_cell_9 | example_cell_10 | ⋯ | example_cell_291 | example_cell_292 | example_cell_293 | example_cell_294 | example_cell_295 | example_cell_296 | example_cell_297 | example_cell_298 | example_cell_299 | example_cell_300 |\n",
       "|---|---|---|---|---|---|---|---|---|---|---|---|---|---|---|---|---|---|---|---|---|---|\n",
       "| Gene_1 | 95 | 102 | 109 | 54 | 83 | 79 | 74 | 110 | 79 | 69 | ⋯ | 66 | 99 | 107 | 92 | 71 | 63 | 81 | 89 | 94 | 69 |\n",
       "| Gene_2 | 13 |  39 |  42 | 39 | 21 | 30 | 39 |  38 | 45 | 53 | ⋯ | 19 | 44 |  21 | 36 | 22 | 23 | 20 | 39 | 38 | 35 |\n",
       "| Gene_3 | 12 |   7 |  17 | 12 | 15 | 14 | 18 |  27 | 22 |  8 | ⋯ |  9 |  9 |  17 | 17 | 15 | 20 | 11 |  9 | 19 |  6 |\n",
       "| Gene_4 |  7 |   5 |  17 |  9 |  6 | 15 |  8 |   6 | 10 | 10 | ⋯ |  3 |  9 |  14 | 13 | 16 | 13 | 14 | 17 | 20 | 13 |\n",
       "| Gene_5 |  8 |  10 |   6 |  8 |  5 |  4 | 14 |   7 |  9 |  4 | ⋯ | 19 | 24 |  29 |  9 |  4 |  1 | 36 | 10 |  5 | 15 |\n",
       "| Gene_6 |  0 |   2 |   2 |  0 |  1 | 27 |  0 |   1 |  5 |  1 | ⋯ |  2 |  9 |   4 |  2 |  9 | 15 |  4 |  8 |  2 |  3 |\n",
       "| Gene_7 |  2 |   2 |   8 |  0 |  9 |  2 |  6 |   7 | 16 |  1 | ⋯ |  1 |  0 |   0 |  0 |  0 |  0 |  0 |  1 |  5 |  8 |\n",
       "| Gene_8 |  0 |   0 |   0 |  0 |  0 |  0 |  0 |   0 |  0 |  0 | ⋯ |  0 |  0 |   0 |  0 |  0 |  0 |  0 |  0 |  0 |  0 |\n",
       "\n"
      ],
      "text/plain": [
       "       example_cell_1 example_cell_2 example_cell_3 example_cell_4\n",
       "Gene_1 95             102            109            54            \n",
       "Gene_2 13              39             42            39            \n",
       "Gene_3 12               7             17            12            \n",
       "Gene_4  7               5             17             9            \n",
       "Gene_5  8              10              6             8            \n",
       "Gene_6  0               2              2             0            \n",
       "Gene_7  2               2              8             0            \n",
       "Gene_8  0               0              0             0            \n",
       "       example_cell_5 example_cell_6 example_cell_7 example_cell_8\n",
       "Gene_1 83             79             74             110           \n",
       "Gene_2 21             30             39              38           \n",
       "Gene_3 15             14             18              27           \n",
       "Gene_4  6             15              8               6           \n",
       "Gene_5  5              4             14               7           \n",
       "Gene_6  1             27              0               1           \n",
       "Gene_7  9              2              6               7           \n",
       "Gene_8  0              0              0               0           \n",
       "       example_cell_9 example_cell_10 ⋯ example_cell_291 example_cell_292\n",
       "Gene_1 79             69              ⋯ 66               99              \n",
       "Gene_2 45             53              ⋯ 19               44              \n",
       "Gene_3 22              8              ⋯  9                9              \n",
       "Gene_4 10             10              ⋯  3                9              \n",
       "Gene_5  9              4              ⋯ 19               24              \n",
       "Gene_6  5              1              ⋯  2                9              \n",
       "Gene_7 16              1              ⋯  1                0              \n",
       "Gene_8  0              0              ⋯  0                0              \n",
       "       example_cell_293 example_cell_294 example_cell_295 example_cell_296\n",
       "Gene_1 107              92               71               63              \n",
       "Gene_2  21              36               22               23              \n",
       "Gene_3  17              17               15               20              \n",
       "Gene_4  14              13               16               13              \n",
       "Gene_5  29               9                4                1              \n",
       "Gene_6   4               2                9               15              \n",
       "Gene_7   0               0                0                0              \n",
       "Gene_8   0               0                0                0              \n",
       "       example_cell_297 example_cell_298 example_cell_299 example_cell_300\n",
       "Gene_1 81               89               94               69              \n",
       "Gene_2 20               39               38               35              \n",
       "Gene_3 11                9               19                6              \n",
       "Gene_4 14               17               20               13              \n",
       "Gene_5 36               10                5               15              \n",
       "Gene_6  4                8                2                3              \n",
       "Gene_7  0                1                5                8              \n",
       "Gene_8  0                0                0                0              "
      ]
     },
     "metadata": {},
     "output_type": "display_data"
    }
   ],
   "source": [
    "# round data to make example easy\n",
    "gene_expr <- round(gene_expr)\n",
    "\n",
    "# take a look inside simulated gene expression level matrix\n",
    "gene_expr"
   ]
  },
  {
   "cell_type": "code",
   "execution_count": 23,
   "metadata": {},
   "outputs": [
    {
     "data": {
      "text/html": [
       "20.5416666666667"
      ],
      "text/latex": [
       "20.5416666666667"
      ],
      "text/markdown": [
       "20.5416666666667"
      ],
      "text/plain": [
       "[1] 20.54167"
      ]
     },
     "metadata": {},
     "output_type": "display_data"
    }
   ],
   "source": [
    "# check gene expression level sparsity (i.e. percentage of biological zeros)\n",
    "100 * sum(gene_expr==0) / ( N_gene * N_cell )"
   ]
  },
  {
   "cell_type": "markdown",
   "metadata": {},
   "source": [
    "### Simulated raw count matrix"
   ]
  },
  {
   "cell_type": "code",
   "execution_count": 26,
   "metadata": {},
   "outputs": [
    {
     "data": {
      "text/html": [
       "<style>\n",
       ".list-inline {list-style: none; margin:0; padding: 0}\n",
       ".list-inline>li {display: inline-block}\n",
       ".list-inline>li:not(:last-child)::after {content: \"\\00b7\"; padding: 0 .5ex}\n",
       "</style>\n",
       "<ol class=list-inline><li>8</li><li>300</li></ol>\n"
      ],
      "text/latex": [
       "\\begin{enumerate*}\n",
       "\\item 8\n",
       "\\item 300\n",
       "\\end{enumerate*}\n"
      ],
      "text/markdown": [
       "1. 8\n",
       "2. 300\n",
       "\n",
       "\n"
      ],
      "text/plain": [
       "[1]   8 300"
      ]
     },
     "metadata": {},
     "output_type": "display_data"
    }
   ],
   "source": [
    "## Simulated raw count matrix\n",
    "raw_count <- sim_result$count_matrix\n",
    "\n",
    "# check dimensions\n",
    "dim(raw_count)"
   ]
  },
  {
   "cell_type": "code",
   "execution_count": 27,
   "metadata": {},
   "outputs": [
    {
     "data": {
      "text/html": [
       "<table class=\"dataframe\">\n",
       "<caption>A matrix: 8 × 300 of type dbl</caption>\n",
       "<thead>\n",
       "\t<tr><th></th><th scope=col>example_cell_1</th><th scope=col>example_cell_2</th><th scope=col>example_cell_3</th><th scope=col>example_cell_4</th><th scope=col>example_cell_5</th><th scope=col>example_cell_6</th><th scope=col>example_cell_7</th><th scope=col>example_cell_8</th><th scope=col>example_cell_9</th><th scope=col>example_cell_10</th><th scope=col>⋯</th><th scope=col>example_cell_291</th><th scope=col>example_cell_292</th><th scope=col>example_cell_293</th><th scope=col>example_cell_294</th><th scope=col>example_cell_295</th><th scope=col>example_cell_296</th><th scope=col>example_cell_297</th><th scope=col>example_cell_298</th><th scope=col>example_cell_299</th><th scope=col>example_cell_300</th></tr>\n",
       "</thead>\n",
       "<tbody>\n",
       "\t<tr><th scope=row>Gene_1</th><td>28</td><td>30</td><td>27</td><td>22</td><td>34</td><td>26</td><td>25</td><td>29</td><td>20</td><td>31</td><td>⋯</td><td>27</td><td>25</td><td>28</td><td>28</td><td>19</td><td>26</td><td>28</td><td>26</td><td>25</td><td>22</td></tr>\n",
       "\t<tr><th scope=row>Gene_2</th><td> 9</td><td>15</td><td>11</td><td>10</td><td> 3</td><td> 8</td><td> 9</td><td>10</td><td>12</td><td>13</td><td>⋯</td><td> 7</td><td>10</td><td> 6</td><td>13</td><td> 9</td><td> 9</td><td> 7</td><td>10</td><td>10</td><td>13</td></tr>\n",
       "\t<tr><th scope=row>Gene_3</th><td> 7</td><td> 2</td><td> 4</td><td>10</td><td> 4</td><td> 2</td><td> 4</td><td> 8</td><td> 5</td><td> 1</td><td>⋯</td><td> 2</td><td> 3</td><td> 3</td><td> 2</td><td> 7</td><td> 3</td><td> 1</td><td> 4</td><td> 2</td><td> 1</td></tr>\n",
       "\t<tr><th scope=row>Gene_4</th><td> 4</td><td> 1</td><td> 6</td><td> 7</td><td> 2</td><td> 8</td><td> 3</td><td> 1</td><td> 2</td><td> 4</td><td>⋯</td><td> 1</td><td> 5</td><td> 3</td><td> 4</td><td> 7</td><td> 3</td><td> 2</td><td> 5</td><td> 7</td><td> 4</td></tr>\n",
       "\t<tr><th scope=row>Gene_5</th><td> 2</td><td> 2</td><td> 2</td><td> 1</td><td> 3</td><td> 1</td><td> 6</td><td> 1</td><td> 1</td><td> 0</td><td>⋯</td><td>11</td><td> 5</td><td> 9</td><td> 2</td><td> 2</td><td> 1</td><td>11</td><td> 2</td><td> 3</td><td> 8</td></tr>\n",
       "\t<tr><th scope=row>Gene_6</th><td> 0</td><td> 0</td><td> 0</td><td> 0</td><td> 0</td><td> 5</td><td> 0</td><td> 0</td><td> 2</td><td> 0</td><td>⋯</td><td> 1</td><td> 2</td><td> 1</td><td> 1</td><td> 6</td><td> 8</td><td> 1</td><td> 3</td><td> 2</td><td> 1</td></tr>\n",
       "\t<tr><th scope=row>Gene_7</th><td> 0</td><td> 0</td><td> 0</td><td> 0</td><td> 4</td><td> 0</td><td> 3</td><td> 1</td><td> 8</td><td> 1</td><td>⋯</td><td> 1</td><td> 0</td><td> 0</td><td> 0</td><td> 0</td><td> 0</td><td> 0</td><td> 0</td><td> 1</td><td> 1</td></tr>\n",
       "\t<tr><th scope=row>Gene_8</th><td> 0</td><td> 0</td><td> 0</td><td> 0</td><td> 0</td><td> 0</td><td> 0</td><td> 0</td><td> 0</td><td> 0</td><td>⋯</td><td> 0</td><td> 0</td><td> 0</td><td> 0</td><td> 0</td><td> 0</td><td> 0</td><td> 0</td><td> 0</td><td> 0</td></tr>\n",
       "</tbody>\n",
       "</table>\n"
      ],
      "text/latex": [
       "A matrix: 8 × 300 of type dbl\n",
       "\\begin{tabular}{r|lllllllllllllllllllll}\n",
       "  & example\\_cell\\_1 & example\\_cell\\_2 & example\\_cell\\_3 & example\\_cell\\_4 & example\\_cell\\_5 & example\\_cell\\_6 & example\\_cell\\_7 & example\\_cell\\_8 & example\\_cell\\_9 & example\\_cell\\_10 & ⋯ & example\\_cell\\_291 & example\\_cell\\_292 & example\\_cell\\_293 & example\\_cell\\_294 & example\\_cell\\_295 & example\\_cell\\_296 & example\\_cell\\_297 & example\\_cell\\_298 & example\\_cell\\_299 & example\\_cell\\_300\\\\\n",
       "\\hline\n",
       "\tGene\\_1 & 28 & 30 & 27 & 22 & 34 & 26 & 25 & 29 & 20 & 31 & ⋯ & 27 & 25 & 28 & 28 & 19 & 26 & 28 & 26 & 25 & 22\\\\\n",
       "\tGene\\_2 &  9 & 15 & 11 & 10 &  3 &  8 &  9 & 10 & 12 & 13 & ⋯ &  7 & 10 &  6 & 13 &  9 &  9 &  7 & 10 & 10 & 13\\\\\n",
       "\tGene\\_3 &  7 &  2 &  4 & 10 &  4 &  2 &  4 &  8 &  5 &  1 & ⋯ &  2 &  3 &  3 &  2 &  7 &  3 &  1 &  4 &  2 &  1\\\\\n",
       "\tGene\\_4 &  4 &  1 &  6 &  7 &  2 &  8 &  3 &  1 &  2 &  4 & ⋯ &  1 &  5 &  3 &  4 &  7 &  3 &  2 &  5 &  7 &  4\\\\\n",
       "\tGene\\_5 &  2 &  2 &  2 &  1 &  3 &  1 &  6 &  1 &  1 &  0 & ⋯ & 11 &  5 &  9 &  2 &  2 &  1 & 11 &  2 &  3 &  8\\\\\n",
       "\tGene\\_6 &  0 &  0 &  0 &  0 &  0 &  5 &  0 &  0 &  2 &  0 & ⋯ &  1 &  2 &  1 &  1 &  6 &  8 &  1 &  3 &  2 &  1\\\\\n",
       "\tGene\\_7 &  0 &  0 &  0 &  0 &  4 &  0 &  3 &  1 &  8 &  1 & ⋯ &  1 &  0 &  0 &  0 &  0 &  0 &  0 &  0 &  1 &  1\\\\\n",
       "\tGene\\_8 &  0 &  0 &  0 &  0 &  0 &  0 &  0 &  0 &  0 &  0 & ⋯ &  0 &  0 &  0 &  0 &  0 &  0 &  0 &  0 &  0 &  0\\\\\n",
       "\\end{tabular}\n"
      ],
      "text/markdown": [
       "\n",
       "A matrix: 8 × 300 of type dbl\n",
       "\n",
       "| <!--/--> | example_cell_1 | example_cell_2 | example_cell_3 | example_cell_4 | example_cell_5 | example_cell_6 | example_cell_7 | example_cell_8 | example_cell_9 | example_cell_10 | ⋯ | example_cell_291 | example_cell_292 | example_cell_293 | example_cell_294 | example_cell_295 | example_cell_296 | example_cell_297 | example_cell_298 | example_cell_299 | example_cell_300 |\n",
       "|---|---|---|---|---|---|---|---|---|---|---|---|---|---|---|---|---|---|---|---|---|---|\n",
       "| Gene_1 | 28 | 30 | 27 | 22 | 34 | 26 | 25 | 29 | 20 | 31 | ⋯ | 27 | 25 | 28 | 28 | 19 | 26 | 28 | 26 | 25 | 22 |\n",
       "| Gene_2 |  9 | 15 | 11 | 10 |  3 |  8 |  9 | 10 | 12 | 13 | ⋯ |  7 | 10 |  6 | 13 |  9 |  9 |  7 | 10 | 10 | 13 |\n",
       "| Gene_3 |  7 |  2 |  4 | 10 |  4 |  2 |  4 |  8 |  5 |  1 | ⋯ |  2 |  3 |  3 |  2 |  7 |  3 |  1 |  4 |  2 |  1 |\n",
       "| Gene_4 |  4 |  1 |  6 |  7 |  2 |  8 |  3 |  1 |  2 |  4 | ⋯ |  1 |  5 |  3 |  4 |  7 |  3 |  2 |  5 |  7 |  4 |\n",
       "| Gene_5 |  2 |  2 |  2 |  1 |  3 |  1 |  6 |  1 |  1 |  0 | ⋯ | 11 |  5 |  9 |  2 |  2 |  1 | 11 |  2 |  3 |  8 |\n",
       "| Gene_6 |  0 |  0 |  0 |  0 |  0 |  5 |  0 |  0 |  2 |  0 | ⋯ |  1 |  2 |  1 |  1 |  6 |  8 |  1 |  3 |  2 |  1 |\n",
       "| Gene_7 |  0 |  0 |  0 |  0 |  4 |  0 |  3 |  1 |  8 |  1 | ⋯ |  1 |  0 |  0 |  0 |  0 |  0 |  0 |  0 |  1 |  1 |\n",
       "| Gene_8 |  0 |  0 |  0 |  0 |  0 |  0 |  0 |  0 |  0 |  0 | ⋯ |  0 |  0 |  0 |  0 |  0 |  0 |  0 |  0 |  0 |  0 |\n",
       "\n"
      ],
      "text/plain": [
       "       example_cell_1 example_cell_2 example_cell_3 example_cell_4\n",
       "Gene_1 28             30             27             22            \n",
       "Gene_2  9             15             11             10            \n",
       "Gene_3  7              2              4             10            \n",
       "Gene_4  4              1              6              7            \n",
       "Gene_5  2              2              2              1            \n",
       "Gene_6  0              0              0              0            \n",
       "Gene_7  0              0              0              0            \n",
       "Gene_8  0              0              0              0            \n",
       "       example_cell_5 example_cell_6 example_cell_7 example_cell_8\n",
       "Gene_1 34             26             25             29            \n",
       "Gene_2  3              8              9             10            \n",
       "Gene_3  4              2              4              8            \n",
       "Gene_4  2              8              3              1            \n",
       "Gene_5  3              1              6              1            \n",
       "Gene_6  0              5              0              0            \n",
       "Gene_7  4              0              3              1            \n",
       "Gene_8  0              0              0              0            \n",
       "       example_cell_9 example_cell_10 ⋯ example_cell_291 example_cell_292\n",
       "Gene_1 20             31              ⋯ 27               25              \n",
       "Gene_2 12             13              ⋯  7               10              \n",
       "Gene_3  5              1              ⋯  2                3              \n",
       "Gene_4  2              4              ⋯  1                5              \n",
       "Gene_5  1              0              ⋯ 11                5              \n",
       "Gene_6  2              0              ⋯  1                2              \n",
       "Gene_7  8              1              ⋯  1                0              \n",
       "Gene_8  0              0              ⋯  0                0              \n",
       "       example_cell_293 example_cell_294 example_cell_295 example_cell_296\n",
       "Gene_1 28               28               19               26              \n",
       "Gene_2  6               13                9                9              \n",
       "Gene_3  3                2                7                3              \n",
       "Gene_4  3                4                7                3              \n",
       "Gene_5  9                2                2                1              \n",
       "Gene_6  1                1                6                8              \n",
       "Gene_7  0                0                0                0              \n",
       "Gene_8  0                0                0                0              \n",
       "       example_cell_297 example_cell_298 example_cell_299 example_cell_300\n",
       "Gene_1 28               26               25               22              \n",
       "Gene_2  7               10               10               13              \n",
       "Gene_3  1                4                2                1              \n",
       "Gene_4  2                5                7                4              \n",
       "Gene_5 11                2                3                8              \n",
       "Gene_6  1                3                2                1              \n",
       "Gene_7  0                0                1                1              \n",
       "Gene_8  0                0                0                0              "
      ]
     },
     "metadata": {},
     "output_type": "display_data"
    }
   ],
   "source": [
    "# check content of the simulated count matrix\n",
    "raw_count"
   ]
  },
  {
   "cell_type": "code",
   "execution_count": 28,
   "metadata": {},
   "outputs": [
    {
     "data": {
      "text/html": [
       "28.9166666666667"
      ],
      "text/latex": [
       "28.9166666666667"
      ],
      "text/markdown": [
       "28.9166666666667"
      ],
      "text/plain": [
       "[1] 28.91667"
      ]
     },
     "metadata": {},
     "output_type": "display_data"
    }
   ],
   "source": [
    "# check sparsity of simulated raw count (both biological zeros and technical zeros)\n",
    "100 * sum(raw_count==0) / ( N_gene * N_cell )"
   ]
  },
  {
   "cell_type": "code",
   "execution_count": 29,
   "metadata": {},
   "outputs": [
    {
     "data": {
      "text/html": [
       "<style>\n",
       ".dl-inline {width: auto; margin:0; padding: 0}\n",
       ".dl-inline>dt, .dl-inline>dd {float: none; width: auto; display: inline-block}\n",
       ".dl-inline>dt::after {content: \":\\0020\"; padding-right: .5ex}\n",
       ".dl-inline>dt:not(:first-of-type) {padding-left: .5ex}\n",
       "</style><dl class=dl-inline><dt>example_cell_1</dt><dd>50</dd><dt>example_cell_2</dt><dd>50</dd><dt>example_cell_3</dt><dd>50</dd><dt>example_cell_4</dt><dd>50</dd><dt>example_cell_5</dt><dd>50</dd><dt>example_cell_6</dt><dd>50</dd></dl>\n"
      ],
      "text/latex": [
       "\\begin{description*}\n",
       "\\item[example\\textbackslash{}\\_cell\\textbackslash{}\\_1] 50\n",
       "\\item[example\\textbackslash{}\\_cell\\textbackslash{}\\_2] 50\n",
       "\\item[example\\textbackslash{}\\_cell\\textbackslash{}\\_3] 50\n",
       "\\item[example\\textbackslash{}\\_cell\\textbackslash{}\\_4] 50\n",
       "\\item[example\\textbackslash{}\\_cell\\textbackslash{}\\_5] 50\n",
       "\\item[example\\textbackslash{}\\_cell\\textbackslash{}\\_6] 50\n",
       "\\end{description*}\n"
      ],
      "text/markdown": [
       "example_cell_1\n",
       ":   50example_cell_2\n",
       ":   50example_cell_3\n",
       ":   50example_cell_4\n",
       ":   50example_cell_5\n",
       ":   50example_cell_6\n",
       ":   50\n",
       "\n"
      ],
      "text/plain": [
       "example_cell_1 example_cell_2 example_cell_3 example_cell_4 example_cell_5 \n",
       "            50             50             50             50             50 \n",
       "example_cell_6 \n",
       "            50 "
      ]
     },
     "metadata": {},
     "output_type": "display_data"
    }
   ],
   "source": [
    "# check library size (it should be equal to 50 for each cell)\n",
    "head(colSums(raw_count))"
   ]
  },
  {
   "cell_type": "markdown",
   "metadata": {},
   "source": [
    "## Inspect the simulated data"
   ]
  },
  {
   "cell_type": "code",
   "execution_count": 76,
   "metadata": {},
   "outputs": [],
   "source": [
    "# function to plot the histograms of the simulated genes\n",
    "plot_histogram <- function(input_matrix, xlabel, color){\n",
    "  for(gene in rownames(input_matrix)){ # for each gene\n",
    "    # compute gene sparsity\n",
    "    gene_sparsity <- round( 100*sum(input_matrix[gene,]==0) / ncol(input_matrix) , 2)\n",
    "    # plot histogram of raw counts\n",
    "    hist(input_matrix[gene,], xlim = c(0,max(input_matrix[gene,]*2)),\n",
    "         main = paste0(gene,\"\\n sparsity: \", gene_sparsity,\" %\"), col =  color, xlab = xlabel)\n",
    "  }\n",
    "}"
   ]
  },
  {
   "cell_type": "code",
   "execution_count": 80,
   "metadata": {},
   "outputs": [
    {
     "data": {
      "image/png": "[encoded data removed]",
      "text/plain": [
       "Plot with title “Gene_8\n",
       " sparsity: 100 %”"
      ]
     },
     "metadata": {
      "image/png": {
       "height": 360,
       "width": 1560
      }
     },
     "output_type": "display_data"
    }
   ],
   "source": [
    "par(mfrow=c(2,8)) # plot layout\n",
    "options(repr.plot.width=26, repr.plot.height=6) # plot size\n",
    "\n",
    "# plot histograms of gene expression levels (blue)\n",
    "plot_histogram(input_matrix = gene_expr, xlabel = \"Gene expression level\", color = \"blue\")\n",
    "# plot histrogram of raw counts (red)\n",
    "plot_histogram(input_matrix = raw_count, xlabel = \"Raw count\", color = \"red\")"
   ]
  },
  {
   "cell_type": "code",
   "execution_count": null,
   "metadata": {},
   "outputs": [],
   "source": [
    "## Save the data in csv format "
   ]
  },
  {
   "cell_type": "code",
   "execution_count": 30,
   "metadata": {},
   "outputs": [],
   "source": [
    "write.csv(gene_expr, file = \"Example1_gene_expr.csv\")\n",
    "write.csv(raw_count, file = \"Example1_raw_count.csv\")"
   ]
  },
  {
   "cell_type": "code",
   "execution_count": null,
   "metadata": {},
   "outputs": [],
   "source": []
  }
 ],
 "metadata": {
  "kernelspec": {
   "display_name": "R",
   "language": "R",
   "name": "ir"
  },
  "language_info": {
   "codemirror_mode": "r",
   "file_extension": ".r",
   "mimetype": "text/x-r-source",
   "name": "R",
   "pygments_lexer": "r",
   "version": "3.6.3"
  }
 },
 "nbformat": 4,
 "nbformat_minor": 4
}
